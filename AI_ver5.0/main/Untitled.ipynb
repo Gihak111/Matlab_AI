{
 "cells": [
  {
   "cell_type": "code",
   "execution_count": 6,
   "id": "a74c4c89-6cdb-4b79-98c8-e4b2c3df11e2",
   "metadata": {},
   "outputs": [
    {
     "name": "stderr",
     "output_type": "stream",
     "text": [
      "WARNING:absl:You are saving your model as an HDF5 file via `model.save()` or `keras.saving.save_model(model)`. This file format is considered legacy. We recommend using instead the native Keras format, e.g. `model.save('my_model.keras')` or `keras.saving.save_model(model, 'my_model.keras')`. \n"
     ]
    }
   ],
   "source": [
    "import tensorflow as tf\n",
    "\n",
    "# 트랜스포머 모델 정의\n",
    "def transformer_model():\n",
    "    # 모델 구현 예시\n",
    "    inputs = tf.keras.layers.Input(shape=(28, 28, 1))\n",
    "    \n",
    "    # 여기에 트랜스포머 레이어 및 다른 레이어 추가\n",
    "    # 예시로 간단한 컨볼루션 레이어 추가\n",
    "    x = tf.keras.layers.Conv2D(32, (3, 3), activation='relu')(inputs)\n",
    "    x = tf.keras.layers.MaxPooling2D((2, 2))(x)\n",
    "    x = tf.keras.layers.Flatten()(x)\n",
    "    outputs = tf.keras.layers.Dense(10, activation='softmax')(x)  # 출력 레이어\n",
    "    \n",
    "    model = tf.keras.Model(inputs=inputs, outputs=outputs)\n",
    "    return model\n",
    "\n",
    "# 모델 생성\n",
    "model = transformer_model()\n",
    "\n",
    "# TensorFlow 모델을 저장하여 MATLAB에서 불러오기\n",
    "model.save('C:/Users/연준모/Documents/MATLAB/7월 2일/saprate_AI/turning_point/AI_ver5.0/main/model.h5')\n",
    "\n"
   ]
  },
  {
   "cell_type": "code",
   "execution_count": null,
   "id": "43a66bd0-d5be-4ccd-a039-55d985e69bb0",
   "metadata": {},
   "outputs": [],
   "source": []
  }
 ],
 "metadata": {
  "kernelspec": {
   "display_name": "Python 3 (ipykernel)",
   "language": "python",
   "name": "python3"
  },
  "language_info": {
   "codemirror_mode": {
    "name": "ipython",
    "version": 3
   },
   "file_extension": ".py",
   "mimetype": "text/x-python",
   "name": "python",
   "nbconvert_exporter": "python",
   "pygments_lexer": "ipython3",
   "version": "3.12.4"
  }
 },
 "nbformat": 4,
 "nbformat_minor": 5
}
